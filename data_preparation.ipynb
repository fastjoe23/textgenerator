{
 "cells": [
  {
   "cell_type": "code",
   "execution_count": 7,
   "id": "9f587e2c",
   "metadata": {},
   "outputs": [],
   "source": [
    "import os\n",
    "import json"
   ]
  },
  {
   "cell_type": "code",
   "execution_count": 8,
   "id": "34be8e2a",
   "metadata": {},
   "outputs": [],
   "source": [
    "def parse(path):\n",
    "  g = open(path, 'r')\n",
    "  for l in g:\n",
    "    yield eval(l)"
   ]
  },
  {
   "cell_type": "code",
   "execution_count": 12,
   "id": "d94115a8",
   "metadata": {},
   "outputs": [
    {
     "name": "stdout",
     "output_type": "stream",
     "text": [
      "1018183\n"
     ]
    }
   ],
   "source": [
    "path_to_input_file = \".\\\\data\\\\amazon_reviews\\\\Sports_and_Outdoors_5.json\"\n",
    "path_to_output_file = \".\\\\data\\\\amazon_reviews\\\\Sports_and_Outdoors_reviewTexts_min.txt\"\n",
    "output_file = open(path_to_output_file, 'a')\n",
    "# Read, then decode for py2 compat.\n",
    "i = 0\n",
    "overall_len = 0\n",
    "for review in parse(path_to_input_file):\n",
    "    overall_len += len(review['reviewText'])\n",
    "    output_file.write(review['reviewText'] + \"\\n\")\n",
    "    i +=1\n",
    "    if i > 2000:\n",
    "        break\n",
    "    \n",
    "print(overall_len)\n",
    "output_file.close()"
   ]
  },
  {
   "cell_type": "code",
   "execution_count": null,
   "id": "e2dcd96a",
   "metadata": {},
   "outputs": [],
   "source": []
  }
 ],
 "metadata": {
  "kernelspec": {
   "display_name": "Python 3",
   "language": "python",
   "name": "python3"
  },
  "language_info": {
   "codemirror_mode": {
    "name": "ipython",
    "version": 3
   },
   "file_extension": ".py",
   "mimetype": "text/x-python",
   "name": "python",
   "nbconvert_exporter": "python",
   "pygments_lexer": "ipython3",
   "version": "3.9.5"
  }
 },
 "nbformat": 4,
 "nbformat_minor": 5
}
